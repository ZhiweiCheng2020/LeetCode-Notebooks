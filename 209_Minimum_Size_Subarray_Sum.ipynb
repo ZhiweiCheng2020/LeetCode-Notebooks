{
  "nbformat": 4,
  "nbformat_minor": 0,
  "metadata": {
    "colab": {
      "name": "209. Minimum Size Subarray Sum.ipynb",
      "provenance": [],
      "collapsed_sections": [],
      "authorship_tag": "ABX9TyNxe07Zm9geJz6E4qm6LA+8",
      "include_colab_link": true
    },
    "kernelspec": {
      "name": "python3",
      "display_name": "Python 3"
    }
  },
  "cells": [
    {
      "cell_type": "markdown",
      "metadata": {
        "id": "view-in-github",
        "colab_type": "text"
      },
      "source": [
        "<a href=\"https://colab.research.google.com/github/orangeczw/LeetCode-Notebooks/blob/master/209_Minimum_Size_Subarray_Sum.ipynb\" target=\"_parent\"><img src=\"https://colab.research.google.com/assets/colab-badge.svg\" alt=\"Open In Colab\"/></a>"
      ]
    },
    {
      "cell_type": "markdown",
      "metadata": {
        "id": "4saePhcdpllV",
        "colab_type": "text"
      },
      "source": [
        "# 209. Minimum Size Subarray Sum\n",
        "\n",
        "Given an array of n positive integers and a positive integer s, find the minimal length of a contiguous subarray of which the sum ≥ s. If there isn't one, return 0 instead.\n",
        "\n",
        "Example: \n",
        "\n",
        "Input: s = 7, nums = [2,3,1,2,4,3]\n",
        "Output: 2\n",
        "Explanation: the subarray [4,3] has the minimal length under the problem constraint.\n",
        "\n",
        "\n",
        "\n"
      ]
    },
    {
      "cell_type": "markdown",
      "metadata": {
        "id": "vBH2QTCcwmUF",
        "colab_type": "text"
      },
      "source": [
        "# Idea 1:\n",
        "\n",
        "**Firstly exclude some simply cases:**\n",
        "* empty list\n",
        "* the max value of the list is larger than s\n",
        "\n",
        "**Procedures:**\n",
        "1. Start from the left index, accumulating until the sum exceeds the threshold -->step 2\n",
        "2. jot down the length, exclude the left element, left += 1, recalculate the sum, if the sum>=s, --> repeat step 2 until the sum < s; -->back to step 1 until going through the whole list.\n"
      ]
    },
    {
      "cell_type": "markdown",
      "metadata": {
        "id": "UU8jFZDTzrav",
        "colab_type": "text"
      },
      "source": [
        "Generate a list for testing\n",
        "\n",
        "\n"
      ]
    },
    {
      "cell_type": "code",
      "metadata": {
        "id": "foL8W1GaplEz",
        "colab_type": "code",
        "outputId": "2b2a7e57-f594-4950-da6b-0c681a887184",
        "colab": {
          "base_uri": "https://localhost:8080/",
          "height": 55
        }
      },
      "source": [
        "import random\n",
        "test_list = [random.randint(1, 10) for i in range(100)]\n",
        "print(test_list)\n"
      ],
      "execution_count": 0,
      "outputs": [
        {
          "output_type": "stream",
          "text": [
            "[5, 5, 6, 4, 4, 5, 9, 7, 3, 6, 8, 9, 2, 5, 1, 8, 6, 9, 3, 2, 8, 5, 5, 3, 5, 1, 2, 6, 10, 6, 4, 5, 1, 8, 10, 7, 7, 8, 10, 8, 1, 5, 9, 6, 7, 4, 5, 5, 2, 9, 7, 1, 3, 8, 3, 1, 7, 8, 6, 9, 8, 6, 1, 6, 8, 3, 4, 5, 6, 2, 9, 2, 9, 3, 1, 5, 7, 2, 1, 3, 5, 7, 3, 9, 6, 9, 10, 3, 4, 7, 2, 10, 5, 3, 6, 2, 2, 7, 4, 3]\n"
          ],
          "name": "stdout"
        }
      ]
    },
    {
      "cell_type": "markdown",
      "metadata": {
        "id": "3tlnQwQ-z0iV",
        "colab_type": "text"
      },
      "source": [
        "There are three functions to generate random numbers"
      ]
    },
    {
      "cell_type": "code",
      "metadata": {
        "id": "Y2C3fqviz2AR",
        "colab_type": "code",
        "outputId": "03ae9dda-18a9-443b-9a8a-75e4f8173b77",
        "colab": {
          "base_uri": "https://localhost:8080/",
          "height": 69
        }
      },
      "source": [
        "print(random.randint(-10,10))\n",
        "print(random.sample(range(-10,10,2),4))#4 is the sample size\n",
        "print(random.randrange(-10,10,2))"
      ],
      "execution_count": 0,
      "outputs": [
        {
          "output_type": "stream",
          "text": [
            "9\n",
            "[6, 2, -6, -8]\n",
            "8\n"
          ],
          "name": "stdout"
        }
      ]
    },
    {
      "cell_type": "markdown",
      "metadata": {
        "id": "d7m4_Vef81vp",
        "colab_type": "text"
      },
      "source": [
        "The following version works for list with positive values and returns the one of the lists with the shortest length."
      ]
    },
    {
      "cell_type": "code",
      "metadata": {
        "id": "bBnt03w0z9nn",
        "colab_type": "code",
        "colab": {}
      },
      "source": [
        "#solution 1: O(0)\n",
        "\n",
        "def shortest_sum_1(nums, threshold):\n",
        "  if (nums == []):\n",
        "    return 0\n",
        "  if max(nums) >= threshold:\n",
        "    return 1\n",
        "  \n",
        "  \n",
        "  sums = left = 0\n",
        "  length = [] #to record all sublists that exceed the threshold\n",
        "  index_left = []\n",
        "\n",
        "  for i, value in enumerate(nums):\n",
        "    sums += value\n",
        "    while (sums >= threshold):\n",
        "      length.append(i - left + 1)\n",
        "      index_left.append(left)\n",
        "      sums -= nums[left]\n",
        "      left += 1\n",
        "  start_index = index_left[length.index(min(length))]\n",
        "  return (min(length), nums[start_index : start_index + min(length)])\n"
      ],
      "execution_count": 0,
      "outputs": []
    },
    {
      "cell_type": "code",
      "metadata": {
        "id": "T-fFtKum1-7G",
        "colab_type": "code",
        "outputId": "5c74498b-3d0d-48ae-9cf2-81448f6ebfc3",
        "colab": {
          "base_uri": "https://localhost:8080/",
          "height": 35
        }
      },
      "source": [
        "shortest_sum_1(test_list, 20)"
      ],
      "execution_count": 0,
      "outputs": [
        {
          "output_type": "execute_result",
          "data": {
            "text/plain": [
              "(3, [5, 9, 7])"
            ]
          },
          "metadata": {
            "tags": []
          },
          "execution_count": 40
        }
      ]
    },
    {
      "cell_type": "code",
      "metadata": {
        "id": "QrZXnpEx_Kwy",
        "colab_type": "code",
        "colab": {}
      },
      "source": [
        "#Solution 2: O(n log n)\n",
        "\n",
        "def find_left(self, left, right, nums, target, n):\n",
        "    while left < right:\n",
        "        mid = (left + right) // 2\n",
        "        if n - nums[mid] >= target:\n",
        "            left = mid + 1\n",
        "        else:\n",
        "            right = mid\n",
        "    return left\n",
        "\n",
        "def minSubArrayLen(target, nums):\n",
        "    result = len(nums) + 1\n",
        "    for idx, n in enumerate(nums[1:], 1):\n",
        "        nums[idx] = nums[idx - 1] + n\n",
        "    left = 0\n",
        "    for right, n in enumerate(nums):\n",
        "        if n >= target:\n",
        "            left = self.find_left(left, right, nums, target, n)\n",
        "            result = min(result, right - left + 1)\n",
        "    return result if result <= len(nums) else 0"
      ],
      "execution_count": 0,
      "outputs": []
    },
    {
      "cell_type": "code",
      "metadata": {
        "id": "tvtqIqw63EoV",
        "colab_type": "code",
        "colab": {}
      },
      "source": [
        ""
      ],
      "execution_count": 0,
      "outputs": []
    },
    {
      "cell_type": "markdown",
      "metadata": {
        "id": "IlcZ92zj78Hd",
        "colab_type": "text"
      },
      "source": [
        "**More difficult：**\n",
        "The list contains 0 and negtive values\n",
        "好像写不出来。。。。\n"
      ]
    },
    {
      "cell_type": "code",
      "metadata": {
        "id": "KwwpR7Mp8yTH",
        "colab_type": "code",
        "outputId": "dde6a3f9-6b3b-4bd6-e331-3217bec449b2",
        "colab": {
          "base_uri": "https://localhost:8080/",
          "height": 55
        }
      },
      "source": [
        "test_list = [random.randint(-10, 10) for i in range(100)]\n",
        "print(test_list)"
      ],
      "execution_count": 0,
      "outputs": [
        {
          "output_type": "stream",
          "text": [
            "[-8, 6, 4, 2, -10, -5, 6, 3, 4, 10, -2, 10, 10, 4, -8, 4, 5, 6, -5, -3, 5, 6, -7, 1, -7, -10, 1, 7, -10, 6, -6, -6, 8, -9, 7, 3, 8, 9, -10, 10, -8, 7, 2, 6, 5, -5, 1, 3, 8, 2, 4, -2, -7, -3, 5, -1, 8, 3, -7, -1, -6, 5, 3, 6, -6, 4, 2, 7, -10, 2, -9, 1, 8, 1, 9, 6, 0, 4, 7, -7, -6, 5, 8, -4, 1, 6, -4, -5, 1, -7, 9, 1, -10, 1, -8, -10, -1, -6, -4, -3]\n"
          ],
          "name": "stdout"
        }
      ]
    },
    {
      "cell_type": "code",
      "metadata": {
        "id": "6frAtXav9Lv3",
        "colab_type": "code",
        "colab": {}
      },
      "source": [
        "def shortest_sum_1(nums, threshold):#We say that threshold >= 0\n",
        "  if (nums == []):\n",
        "    return 0\n",
        "  if max(nums) >= threshold:\n",
        "    return 1\n",
        "  \n",
        "  \n",
        "  sums = left = 0\n",
        "  length = [] #to record all sublists that exceed the threshold\n",
        "  index_left = []\n",
        "\n",
        "  for i, value in enumerate(nums):\n",
        "    if value <= 0:\n",
        "      left += 1\n",
        "\n",
        "    sums += max(value, 0)\n",
        "    \n",
        "    while (sums >= threshold):\n",
        "      length.append(i - left + 1)\n",
        "      index_left.append(left)\n",
        "      sums -= nums[left]\n",
        "      left += 1\n",
        "  start_index = index_left[length.index(min(length))]\n",
        "  return (min(length), nums[start_index : start_index + min(length)])\n"
      ],
      "execution_count": 0,
      "outputs": []
    }
  ]
}