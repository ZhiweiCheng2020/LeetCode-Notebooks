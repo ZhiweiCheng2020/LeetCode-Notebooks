{
  "nbformat": 4,
  "nbformat_minor": 0,
  "metadata": {
    "colab": {
      "name": "53. Maximum Subarray.ipynb",
      "provenance": [],
      "collapsed_sections": [],
      "authorship_tag": "ABX9TyPtcwQfC1Y75ltJFF/Wuxia",
      "include_colab_link": true
    },
    "kernelspec": {
      "name": "python3",
      "display_name": "Python 3"
    }
  },
  "cells": [
    {
      "cell_type": "markdown",
      "metadata": {
        "id": "view-in-github",
        "colab_type": "text"
      },
      "source": [
        "<a href=\"https://colab.research.google.com/github/orangeczw/LeetCode-Notebooks/blob/master/53_Maximum_Subarray.ipynb\" target=\"_parent\"><img src=\"https://colab.research.google.com/assets/colab-badge.svg\" alt=\"Open In Colab\"/></a>"
      ]
    },
    {
      "cell_type": "markdown",
      "metadata": {
        "id": "udARzNTBoKol",
        "colab_type": "text"
      },
      "source": [
        "# 53. Maximum Subarray\n",
        "Easy\n",
        "\n",
        "Given an integer array nums, find the contiguous subarray (containing at least one number) which has the largest sum and return its sum.\n",
        "\n",
        "Example:\n",
        "\n",
        "Input: [-2,1,-3,4,-1,2,1,-5,4],\n",
        "\n",
        "Output: 6\n",
        "\n",
        "Explanation: [4,-1,2,1] has the largest sum = 6.\n",
        "\n",
        "Follow up:\n",
        "\n",
        "If you have figured out the O(n) solution, try coding another solution using the divide and conquer approach, which is more subtle."
      ]
    },
    {
      "cell_type": "markdown",
      "metadata": {
        "id": "jDu-lRSFvTjf",
        "colab_type": "text"
      },
      "source": [
        "Find the maximum sum of a sublist and **return the sublist**"
      ]
    },
    {
      "cell_type": "code",
      "metadata": {
        "id": "Xfg5XWNnqG0h",
        "colab_type": "code",
        "colab": {
          "base_uri": "https://localhost:8080/",
          "height": 34
        },
        "outputId": "820fa6e5-d13c-4e9f-9373-f9bea8d4897d"
      },
      "source": [
        "import random\n",
        "list_test = [random.randint(-10,10) for i in range(10)]\n",
        "print(list_test)"
      ],
      "execution_count": 34,
      "outputs": [
        {
          "output_type": "stream",
          "text": [
            "[-4, 9, -3, 8, 0, 10, 4, 5, -2, -1]\n"
          ],
          "name": "stdout"
        }
      ]
    },
    {
      "cell_type": "code",
      "metadata": {
        "id": "-2h6q5ZFohiP",
        "colab_type": "code",
        "colab": {}
      },
      "source": [
        "class Solution(object):\n",
        "    def maxSubArray(self, nums0):\n",
        "      nums = nums0.copy()\n",
        "\n",
        "      if nums == []:\n",
        "        return 0\n",
        "      if max(nums) <= 0:\n",
        "        return max(nums)\n",
        "      \n",
        "      \n",
        "\n",
        "      for i in range(1, len(nums)):\n",
        "        if nums[i - 1] > 0:\n",
        "          nums[i] += nums[i - 1]\n",
        "\n",
        "      max_index = nums.index(max(nums))\n",
        "      nums1 = nums[:max_index + 1]\n",
        "      nums2 = nums1[::-1]\n",
        "\n",
        "      i = stop = 0\n",
        "      length = len(nums2)\n",
        "      \n",
        "      while (i < len(nums2)) and (stop == 0):\n",
        "        if nums2[i] <= 0:\n",
        "          length = i \n",
        "          stop = 1\n",
        "        i += 1\n",
        "      \n",
        "      sublist = nums0[(max_index - length + 1) : max_index + 1]\n",
        "\n",
        "      return max(nums), nums0, sublist"
      ],
      "execution_count": 0,
      "outputs": []
    },
    {
      "cell_type": "code",
      "metadata": {
        "id": "rQwIqOlCqQA1",
        "colab_type": "code",
        "colab": {
          "base_uri": "https://localhost:8080/",
          "height": 34
        },
        "outputId": "d8d3f5d2-f12e-4a5a-dcb7-9a65cfecb849"
      },
      "source": [
        "object1 = Solution()\n",
        "object1.maxSubArray(list_test)"
      ],
      "execution_count": 48,
      "outputs": [
        {
          "output_type": "execute_result",
          "data": {
            "text/plain": [
              "(33, [-4, 9, -3, 8, 0, 10, 4, 5, -2, -1], [9, -3, 8, 0, 10, 4, 5])"
            ]
          },
          "metadata": {
            "tags": []
          },
          "execution_count": 48
        }
      ]
    },
    {
      "cell_type": "code",
      "metadata": {
        "id": "dkbIP-95vB4V",
        "colab_type": "code",
        "colab": {}
      },
      "source": [
        ""
      ],
      "execution_count": 0,
      "outputs": []
    }
  ]
}